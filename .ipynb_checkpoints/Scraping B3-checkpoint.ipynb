{
 "cells": [
  {
   "cell_type": "code",
   "execution_count": 14,
   "id": "e955a715",
   "metadata": {},
   "outputs": [],
   "source": [
    "import requests\n",
    "from bs4 import BeautifulSoup\n",
    "import re\n",
    "import math"
   ]
  },
  {
   "cell_type": "code",
   "execution_count": 11,
   "id": "ad099fbc",
   "metadata": {},
   "outputs": [],
   "source": [
    "url = 'https://statusinvest.com.br/acoes/stbp3'\n",
    "header = {'User-Agent': \"Mozilla/5.0 (Windows NT 10.0; Win64; x64) AppleWebKit/537.36 (KHTML, like Gecko) Chrome/110.0.0.0 Safari/537.36\"}"
   ]
  },
  {
   "cell_type": "code",
   "execution_count": 23,
   "id": "96c940b1",
   "metadata": {},
   "outputs": [],
   "source": [
    "site = requests.get(url, headers = header  )\n",
    "soup = BeautifulSoup( site.content, 'html.parser' )\n",
    "\n",
    "title_text = soup.find('h1', class_ = 'lh-4').get_text()\n",
    "roe = soup.find('strong', class_ = 'value d-block lh-4 fs-4 fw-700').get_text()"
   ]
  },
  {
   "cell_type": "code",
   "execution_count": 24,
   "id": "98276d88",
   "metadata": {},
   "outputs": [
    {
     "data": {
      "text/plain": [
       "'8,00%'"
      ]
     },
     "execution_count": 24,
     "metadata": {},
     "output_type": "execute_result"
    }
   ],
   "source": [
    "roe"
   ]
  },
  {
   "cell_type": "code",
   "execution_count": null,
   "id": "70010160",
   "metadata": {},
   "outputs": [],
   "source": []
  },
  {
   "cell_type": "code",
   "execution_count": null,
   "id": "f86a3463",
   "metadata": {},
   "outputs": [],
   "source": []
  },
  {
   "cell_type": "code",
   "execution_count": null,
   "id": "851fe350",
   "metadata": {},
   "outputs": [],
   "source": []
  },
  {
   "cell_type": "code",
   "execution_count": null,
   "id": "8136a9f8",
   "metadata": {},
   "outputs": [],
   "source": []
  },
  {
   "cell_type": "code",
   "execution_count": null,
   "id": "3a60db1a",
   "metadata": {},
   "outputs": [],
   "source": []
  }
 ],
 "metadata": {
  "kernelspec": {
   "display_name": "Python 3 (ipykernel)",
   "language": "python",
   "name": "python3"
  },
  "language_info": {
   "codemirror_mode": {
    "name": "ipython",
    "version": 3
   },
   "file_extension": ".py",
   "mimetype": "text/x-python",
   "name": "python",
   "nbconvert_exporter": "python",
   "pygments_lexer": "ipython3",
   "version": "3.11.2"
  }
 },
 "nbformat": 4,
 "nbformat_minor": 5
}
